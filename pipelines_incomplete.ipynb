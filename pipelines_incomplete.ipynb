{
 "cells": [
  {
   "cell_type": "code",
   "execution_count": 0,
   "metadata": {
    "application/vnd.databricks.v1+cell": {
     "cellMetadata": {
      "byteLimit": 2048000,
      "rowLimit": 10000
     },
     "inputWidgets": {},
     "nuid": "73307990-cfb7-4cfe-af66-21bd0e6bebf9",
     "showTitle": false,
     "tableResultSettingsMap": {},
     "title": ""
    }
   },
   "outputs": [],
   "source": [
    "import time\n",
    "import requests\n",
    "import json\n",
    "from datetime import datetime\n",
    "from pyspark.sql import SparkSession\n",
    "from pyspark.sql.functions import *\n",
    "from pyspark.sql.types import *\n",
    "import boto3\n",
    "import io\n",
    "import pandas as pd\n",
    "import pyarrow as pa\n",
    "import pyarrow.parquet as pq\n",
    "# Initialize Spark and Supabase Storage stuff\n",
    "\n",
    "ENDPOINT = None # Replace\n",
    "ACCESS_KEY =  None # Replace\n",
    "SECRET_KEY =  None # Replace\n",
    "\n",
    "spark = SparkSession.builder \\\n",
    "    .appName(\"BlueBikes Batch Reader\") \\\n",
    "    .config(\"spark.jars.packages\", \"org.apache.hadoop:hadoop-aws:3.3.4\") \\\n",
    "    .config(\"spark.hadoop.fs.s3a.endpoint\", ENDPOINT) \\\n",
    "    .config(\"spark.hadoop.fs.s3a.connection.ssl.enabled\", \"true\") \\\n",
    "    .config(\"spark.hadoop.fs.s3a.access.key\", ACCESS_KEY) \\\n",
    "    .config(\"spark.hadoop.fs.s3a.secret.key\", SECRET_KEY) \\\n",
    "    .config(\"spark.hadoop.fs.s3a.aws.credentials.provider\", \"org.apache.hadoop.fs.s3a.SimpleAWSCredentialsProvider\") \\\n",
    "    .config(\"spark.sql.streaming.forceDeleteTempCheckpointLocation\", \"true\") \\\n",
    "    .config(\"spark.hadoop.fs.s3a.path.style.access\", \"true\") \\\n",
    "    .config(\"spark.hadoop.fs.s3a.impl\", \"org.apache.hadoop.fs.s3a.S3AFileSystem\") \\\n",
    "    .getOrCreate()\n",
    "\n",
    "# Define schema\n",
    "\n"
   ]
  },
  {
   "cell_type": "code",
   "execution_count": 0,
   "metadata": {
    "application/vnd.databricks.v1+cell": {
     "cellMetadata": {
      "byteLimit": 2048000,
      "rowLimit": 10000
     },
     "inputWidgets": {},
     "nuid": "f558a301-4665-4eef-84c7-4b568bd8fe39",
     "showTitle": false,
     "tableResultSettingsMap": {},
     "title": ""
    }
   },
   "outputs": [
    {
     "name": "stdout",
     "output_type": "stream",
     "text": [
      "\n",
      "=== Data fetched at 2025-08-14 17:43:48.256669 ===\n",
      "Parquet uploaded successfully.\n",
      "+----------------------------------+--------------------+\n",
      "|name                              |utilization_rate    |\n",
      "+----------------------------------+--------------------+\n",
      "|O'Brien Highway at First Street   |0.0                 |\n",
      "|Whittier St Health Center         |0.0                 |\n",
      "|Tremont St at Northampton St      |0.05263157894736842 |\n",
      "|The Dimock Center                 |0.0                 |\n",
      "|Aquarium T Stop - 200 Atlantic Ave|0.043478260869565216|\n",
      "|Parker St at Huntington Ave       |0.0                 |\n",
      "|Broadway at Central St            |0.05555555555555555 |\n",
      "|Shawmut Ave at Lenox St           |0.0                 |\n",
      "|Bartlett St at John Elliot Sq     |0.06666666666666667 |\n",
      "|Massachusetts Ave at Columbus Ave |0.0                 |\n",
      "|Cross St at Stillman St           |0.0                 |\n",
      "|W Broadway at Dorchester St       |0.0                 |\n",
      "|Lake St. at Minuteman Bikeway     |0.0                 |\n",
      "|Commonwealth Ave at Naples Rd     |0.0                 |\n",
      "|Brighton Ave at Linden St         |0.0                 |\n",
      "|Centre St at Seaverns Ave         |0.0                 |\n",
      "|Perry Park                        |0.05263157894736842 |\n",
      "|Tremont St at Hamilton Pl         |0.0                 |\n",
      "|700 Huron Ave                     |0.05263157894736842 |\n",
      "|MIT Vassar St                     |0.057692307692307696|\n",
      "+----------------------------------+--------------------+\n",
      "only showing top 20 rows\n"
     ]
    }
   ],
   "source": [
    "def fetch_and_process_gbfs():\n",
    "    \"\"\"Fetch GBFS data and process with Spark\"\"\"\n",
    "    try:\n",
    "        # Fetch station status data\n",
    "        response = requests.get(\n",
    "            \"https://gbfs.lyft.com/gbfs/1.1/bos/en/station_status.json\",\n",
    "            timeout=10\n",
    "        )\n",
    "            \n",
    "        # Calculate ingestion timestamp\n",
    "        \n",
    "        # Extract stations data\n",
    "        \n",
    "        # Add ingestion timestamp to each station record\n",
    "\n",
    "        # Create Spark DataFrame\n",
    "        \n",
    "        # Fetch station information data\n",
    "\n",
    "        # Extract station info\n",
    "\n",
    "        # Select just id and name columns (need to create a new list of dictionaries for this)\n",
    "       \n",
    "\n",
    "        \n",
    "        # Add computed columns - total capacity, utilization rate, and timestamps\n",
    "        \n",
    "        # Show results\n",
    "\n",
    "        \n",
    "        # Calculate some quick stats using the agg function\n",
    "        \n",
    "        # Convert to Pandas DataFrame for Parquet conversion\n",
    "\n",
    "        # Convert to PyArrow Table\n",
    "\n",
    "        # Write Parquet to an in-memory buffer\n",
    "\n",
    "        # Define S3 resource with our supabase credentials\n",
    "\n",
    "        # Define bucket and key\n",
    " \n",
    "        # Upload the Parquet file to S3\n",
    "        \n",
    "     \n",
    "        # Write stats to in-memory delta table\n",
    "\n",
    "        \n",
    "        # Bonus: Join processed data with station info to get names\n",
    "\n",
    "\n",
    "    except Exception as e:\n",
    "        # pass\n",
    "        print(str(e))\n",
    "\n",
    "fetch_and_process_gbfs()\n"
   ]
  }
 ],
 "metadata": {
  "application/vnd.databricks.v1+notebook": {
   "computePreferences": null,
   "dashboards": [],
   "environmentMetadata": {
    "base_environment": "",
    "environment_version": "2"
   },
   "inputWidgetPreferences": null,
   "language": "python",
   "notebookMetadata": {
    "pythonIndentUnit": 4
   },
   "notebookName": "Notebook2",
   "widgets": {}
  },
  "language_info": {
   "name": "python"
  }
 },
 "nbformat": 4,
 "nbformat_minor": 0
}
